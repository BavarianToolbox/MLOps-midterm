{
 "cells": [
  {
   "cell_type": "code",
   "execution_count": 13,
   "id": "946328e2-66dd-4ff2-8551-0a9653c51d70",
   "metadata": {},
   "outputs": [],
   "source": [
    "import tensorflow as tf\n",
    "import pandas as pd\n",
    "import numpy as np\n",
    "import matplotlib.pyplot as plt\n",
    "\n",
    "import wandb\n",
    "from wandb.keras import WandbCallback\n",
    "\n",
    "from tensorflow import keras\n",
    "\n",
    "%matplotlib inline"
   ]
  },
  {
   "cell_type": "code",
   "execution_count": null,
   "id": "73c29d2f-2a30-4422-b24b-82d5ddd97ffb",
   "metadata": {},
   "outputs": [],
   "source": [
    "!wandb login"
   ]
  },
  {
   "cell_type": "code",
   "execution_count": 7,
   "id": "d5db238e-38e2-401c-b0ba-bbfb6feae314",
   "metadata": {},
   "outputs": [],
   "source": [
    "(x_train, y_train), (x_test, y_test) = tf.keras.datasets.cifar100.load_data(label_mode = 'fine')"
   ]
  },
  {
   "cell_type": "code",
   "execution_count": 8,
   "id": "d0116319-f1b9-4a7e-952b-f1c7ca08ce4f",
   "metadata": {},
   "outputs": [],
   "source": [
    "assert x_train.shape == (50000, 32, 32, 3)\n",
    "assert x_test.shape == (10000, 32, 32, 3)\n",
    "assert y_train.shape == (50000, 1)\n",
    "assert y_test.shape == (10000, 1)"
   ]
  },
  {
   "cell_type": "code",
   "execution_count": null,
   "id": "0576793a-f923-4a11-9ff3-bfed36da7ef5",
   "metadata": {},
   "outputs": [],
   "source": [
    "run = wandb.init(project='my-keras-integration',\n",
    "                 config={\n",
    "                     \"learning_rate\": 0.005,\n",
    "                     \"epochs\": 10,\n",
    "                     \"batch_size\": 64,\n",
    "                     \"loss_function\": \"sparse_categorical_crossentropy\",\n",
    "                     \"metrics\":[\"sparse_categorical_accuracy\"],\n",
    "                     \"optimizer\": \"adam\",\n",
    "                     \"base\": \"EfficientNetB0\",\n",
    "                     \"pool\": \"avg\",\n",
    "                     \"head\": \"Dense(100)\",\n",
    "                     \"dataset\": \"CIFAR-100\"\n",
    "                 })\n",
    "config = wandb.config"
   ]
  },
  {
   "cell_type": "code",
   "execution_count": 24,
   "id": "7c09c50d-7b17-47bc-be54-313e77f0371e",
   "metadata": {},
   "outputs": [],
   "source": [
    "base = keras.applications.EfficientNetB0(\n",
    "    include_top = False,\n",
    "    weights = 'imagenet',\n",
    "    input_shape = [32, 32, 3],\n",
    "    pooling = config.pool\n",
    ")\n",
    "base.trainable = False"
   ]
  },
  {
   "cell_type": "code",
   "execution_count": 28,
   "id": "0a6276d8-193d-4d5e-97bb-89f393790e0d",
   "metadata": {},
   "outputs": [],
   "source": [
    "#base.summary()"
   ]
  },
  {
   "cell_type": "markdown",
   "id": "83810ce5-056a-472e-b019-7328414b9295",
   "metadata": {},
   "source": [
    "Build and compile model"
   ]
  },
  {
   "cell_type": "code",
   "execution_count": 26,
   "id": "3dc64551-5f2e-4614-be6c-c327d3c919d3",
   "metadata": {},
   "outputs": [],
   "source": [
    "model = keras.Sequential([\n",
    "    base,\n",
    "    keras.layers.Dense(100, activation = 'sigmoid')\n",
    "])"
   ]
  },
  {
   "cell_type": "code",
   "execution_count": 27,
   "id": "8dd4d107-fc07-4f6f-bcc2-698c8eb9d507",
   "metadata": {},
   "outputs": [
    {
     "name": "stdout",
     "output_type": "stream",
     "text": [
      "Model: \"sequential_1\"\n",
      "_________________________________________________________________\n",
      "Layer (type)                 Output Shape              Param #   \n",
      "=================================================================\n",
      "efficientnetb0 (Functional)  (None, 1280)              4049571   \n",
      "_________________________________________________________________\n",
      "dense_1 (Dense)              (None, 100)               128100    \n",
      "=================================================================\n",
      "Total params: 4,177,671\n",
      "Trainable params: 128,100\n",
      "Non-trainable params: 4,049,571\n",
      "_________________________________________________________________\n"
     ]
    }
   ],
   "source": [
    "model.summary()"
   ]
  },
  {
   "cell_type": "code",
   "execution_count": 29,
   "id": "96a5434f-99dc-4c04-971e-9a92596077b5",
   "metadata": {},
   "outputs": [],
   "source": [
    "optimizer = tf.keras.optimizers.Adam(config.learning_rate)\n",
    "model.compile(\n",
    "    optimizer = optimizer,\n",
    "    loss = config.loss,\n",
    "    metrics = config.metrics\n",
    ")"
   ]
  },
  {
   "cell_type": "code",
   "execution_count": null,
   "id": "5b949979-f6d0-4eff-938e-b4927c57e478",
   "metadata": {},
   "outputs": [],
   "source": [
    "model.fit(\n",
    "    x = x_train,\n",
    "    y = y_train,\n",
    "    validation_data = (x_test, y_test),\n",
    "    epochs = config.epochs,\n",
    "    callbacks = [WandbCallback]\n",
    ")"
   ]
  }
 ],
 "metadata": {
  "kernelspec": {
   "display_name": "train_env",
   "language": "python",
   "name": "train_env"
  },
  "language_info": {
   "codemirror_mode": {
    "name": "ipython",
    "version": 3
   },
   "file_extension": ".py",
   "mimetype": "text/x-python",
   "name": "python",
   "nbconvert_exporter": "python",
   "pygments_lexer": "ipython3",
   "version": "3.9.1"
  }
 },
 "nbformat": 4,
 "nbformat_minor": 5
}
