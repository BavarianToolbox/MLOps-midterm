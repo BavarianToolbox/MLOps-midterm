{
 "cells": [
  {
   "cell_type": "code",
   "execution_count": 1,
   "id": "946328e2-66dd-4ff2-8551-0a9653c51d70",
   "metadata": {},
   "outputs": [],
   "source": [
    "import pickle\n",
    "import json\n",
    "import tensorflow as tf\n",
    "import pandas as pd\n",
    "import numpy as np\n",
    "import matplotlib.pyplot as plt\n",
    "\n",
    "import wandb\n",
    "from wandb.keras import WandbCallback\n",
    "\n",
    "from tensorflow import keras\n",
    "from pathlib import Path\n",
    "\n",
    "%matplotlib inline"
   ]
  },
  {
   "cell_type": "code",
   "execution_count": 5,
   "id": "963b324a-34a3-4cc9-8583-83e26a5c76bb",
   "metadata": {},
   "outputs": [],
   "source": [
    "DATA = Path('./data')"
   ]
  },
  {
   "cell_type": "code",
   "execution_count": null,
   "id": "73c29d2f-2a30-4422-b24b-82d5ddd97ffb",
   "metadata": {},
   "outputs": [],
   "source": [
    "!wandb login"
   ]
  },
  {
   "cell_type": "code",
   "execution_count": 36,
   "id": "d5db238e-38e2-401c-b0ba-bbfb6feae314",
   "metadata": {},
   "outputs": [],
   "source": [
    "(x_train, y_train), (x_test, y_test) = tf.keras.datasets.cifar100.load_data(label_mode = 'fine')"
   ]
  },
  {
   "cell_type": "code",
   "execution_count": 37,
   "id": "43038dd4-1580-46e5-b6fe-e0569c14d4db",
   "metadata": {},
   "outputs": [],
   "source": [
    "assert x_train.shape == (50000, 32, 32, 3)\n",
    "assert x_test.shape == (10000, 32, 32, 3)\n",
    "assert y_train.shape == (50000, 1)\n",
    "assert y_test.shape == (10000, 1)"
   ]
  },
  {
   "cell_type": "code",
   "execution_count": 3,
   "id": "b6f08f2e-8597-44af-9d27-7a543c8ae570",
   "metadata": {},
   "outputs": [],
   "source": [
    "# lets pickle the data so we can store it in a bucket\n",
    "data = [x_train, y_train, x_test, y_test]\n",
    "with open(DATA/'training_data.dat', \"wb\") as f:\n",
    "    pickle.dump(data, f)"
   ]
  },
  {
   "cell_type": "code",
   "execution_count": 11,
   "id": "487e9659-e6de-4346-ac52-a10dd756956a",
   "metadata": {},
   "outputs": [],
   "source": [
    "with open(DATA/'training_data.dat', \"rb\") as f:\n",
    "    [x_train, y_train, x_test, y_test] = pickle.load(f)"
   ]
  },
  {
   "cell_type": "code",
   "execution_count": 12,
   "id": "03c151da-4512-47aa-a283-364db52ecb14",
   "metadata": {},
   "outputs": [],
   "source": [
    "assert x_train.shape == (50000, 32, 32, 3)\n",
    "assert x_test.shape == (10000, 32, 32, 3)\n",
    "assert y_train.shape == (50000, 1)\n",
    "assert y_test.shape == (10000, 1)"
   ]
  },
  {
   "cell_type": "code",
   "execution_count": null,
   "id": "0576793a-f923-4a11-9ff3-bfed36da7ef5",
   "metadata": {},
   "outputs": [],
   "source": [
    "# from: https://colab.research.google.com/github/wandb/examples/blob/master/colabs/keras/Simple_Keras_Integration.ipynb#scrollTo=_Mqy_ZBNM8UA\n",
    "run = wandb.init(project='mlops-midterm',\n",
    "                 config={\n",
    "                     \"learning_rate\": 0.005,\n",
    "                     \"epochs\": 10,\n",
    "                     \"batch_size\": 64,\n",
    "                     \"loss_function\": \"sparse_categorical_crossentropy\",\n",
    "                     \"metrics\":[\"sparse_categorical_accuracy\"],\n",
    "                     \"optimizer\": \"adam\",\n",
    "                     \"base\": \"EfficientNetB0\",\n",
    "                     \"pool\": \"avg\",\n",
    "                     \"head\": \"Dense(100)\",\n",
    "                     \"dataset\": \"CIFAR-100\"\n",
    "                 })\n",
    "config = wandb.config"
   ]
  },
  {
   "cell_type": "code",
   "execution_count": 10,
   "id": "57c56765-ea03-4627-accd-33377f78ae4b",
   "metadata": {},
   "outputs": [],
   "source": [
    "dummy = np.random.randint(0,255,(1,32,32,3))"
   ]
  },
  {
   "cell_type": "code",
   "execution_count": 47,
   "id": "7c09c50d-7b17-47bc-be54-313e77f0371e",
   "metadata": {},
   "outputs": [],
   "source": [
    "base = keras.applications.EfficientNetB0(\n",
    "    include_top = False,\n",
    "    weights = 'imagenet',\n",
    "    input_shape = [32, 32, 3],\n",
    "    pooling ='avg' #config.pool\n",
    ")\n",
    "base.trainable = False"
   ]
  },
  {
   "cell_type": "markdown",
   "id": "83810ce5-056a-472e-b019-7328414b9295",
   "metadata": {},
   "source": [
    "Build and compile model"
   ]
  },
  {
   "cell_type": "code",
   "execution_count": 49,
   "id": "d969e92b-9a8d-4179-ba4a-0ccb14efa67a",
   "metadata": {},
   "outputs": [],
   "source": [
    "# use functional approach so gradcam model works\n",
    "drop = keras.layers.Dropout(0.2)(base.output)\n",
    "preds = keras.layers.Dense(100, activation = 'sigmoid')(drop)\n",
    "model = keras.models.Model(inputs = base.inputs, outputs = preds)"
   ]
  },
  {
   "cell_type": "code",
   "execution_count": 57,
   "id": "1ed9592c-65ae-4ecd-875e-6354651d4bb2",
   "metadata": {},
   "outputs": [],
   "source": [
    "# model.summary()"
   ]
  },
  {
   "cell_type": "code",
   "execution_count": 50,
   "id": "30c45780-c3ba-4b0b-af1f-1063705b05c2",
   "metadata": {},
   "outputs": [],
   "source": [
    "optimizer = tf.keras.optimizers.Adam() #config.learning_rate\n",
    "model.compile(\n",
    "    optimizer = optimizer,\n",
    "    loss = 'sparse_categorical_crossentropy',\n",
    "    metrics = ['acc']\n",
    ")"
   ]
  },
  {
   "cell_type": "code",
   "execution_count": 51,
   "id": "cace415f-af8e-4142-924e-257dcae871a3",
   "metadata": {},
   "outputs": [],
   "source": [
    "dummy_out = model(np.random.randint(0,255,(1,32,32,3)))"
   ]
  },
  {
   "cell_type": "code",
   "execution_count": 52,
   "id": "bda2a759-f88f-427e-8870-70b0e0b3d74a",
   "metadata": {},
   "outputs": [],
   "source": [
    "# grad model for Grad-CAM\n",
    "grad_model = keras.models.Model(\n",
    "    [model.inputs],\n",
    "    [model.get_layer('top_conv').output, model.output]\n",
    ")"
   ]
  },
  {
   "cell_type": "code",
   "execution_count": 53,
   "id": "28ffc691-7899-443c-8cbf-356d5f192a26",
   "metadata": {},
   "outputs": [],
   "source": [
    "with tf.GradientTape() as tape:\n",
    "\n",
    "    last_conv_layer_output, preds = grad_model(np.random.randint(0,255,(1,32,32,3)))\n",
    "\n",
    "    pred_index = tf.argmax(preds[0])\n",
    "    class_channel = preds[:, pred_index]\n",
    "    \n",
    "    # This is the gradient of the output neuron (top predicted or chosen)\n",
    "    # with regard to the output feature map of the last conv layer\n",
    "    grads = tape.gradient(class_channel, last_conv_layer_output)"
   ]
  },
  {
   "cell_type": "code",
   "execution_count": 54,
   "id": "975c2046-fdf0-4324-bd47-22d946b94414",
   "metadata": {},
   "outputs": [
    {
     "data": {
      "text/plain": [
       "<tf.Tensor: shape=(1,), dtype=float32, numpy=array([0.67721796], dtype=float32)>"
      ]
     },
     "execution_count": 54,
     "metadata": {},
     "output_type": "execute_result"
    }
   ],
   "source": [
    "class_channel"
   ]
  },
  {
   "cell_type": "code",
   "execution_count": 55,
   "id": "bdc8fc7b-9e64-4451-bec2-baa4c6d7bf3f",
   "metadata": {},
   "outputs": [
    {
     "data": {
      "text/plain": [
       "tensorflow.python.framework.ops.EagerTensor"
      ]
     },
     "execution_count": 55,
     "metadata": {},
     "output_type": "execute_result"
    }
   ],
   "source": [
    "type(grads)"
   ]
  },
  {
   "cell_type": "code",
   "execution_count": 13,
   "id": "ff00634e-f389-42f0-9357-235d442dcf85",
   "metadata": {},
   "outputs": [],
   "source": [
    "dummy_out = model(np.random.randint(0,255,(1,32,32,3)))"
   ]
  },
  {
   "cell_type": "code",
   "execution_count": 16,
   "id": "e6d47961-dfdb-434f-8531-4ec5aca83f1a",
   "metadata": {},
   "outputs": [
    {
     "data": {
      "text/plain": [
       "14"
      ]
     },
     "execution_count": 16,
     "metadata": {},
     "output_type": "execute_result"
    }
   ],
   "source": [
    "np.argmax(dummy_out)"
   ]
  },
  {
   "cell_type": "code",
   "execution_count": 4,
   "id": "96a5434f-99dc-4c04-971e-9a92596077b5",
   "metadata": {},
   "outputs": [],
   "source": [
    "optimizer = tf.keras.optimizers.Adam() #config.learning_rate\n",
    "model.compile(\n",
    "    optimizer = optimizer,\n",
    "    loss = 'sparse_categorical_crossentropy',\n",
    "    metrics = ['acc']\n",
    ")"
   ]
  },
  {
   "cell_type": "code",
   "execution_count": null,
   "id": "5b949979-f6d0-4eff-938e-b4927c57e478",
   "metadata": {},
   "outputs": [],
   "source": [
    "model.fit(\n",
    "    x = x_train,\n",
    "    y = y_train,\n",
    "    validation_data = (x_test, y_test),\n",
    "    epochs = config.epochs,\n",
    "    callbacks = [WandbCallback]\n",
    ")"
   ]
  },
  {
   "cell_type": "code",
   "execution_count": 18,
   "id": "198fd625-b8f2-4269-8983-0c300406ed5c",
   "metadata": {},
   "outputs": [],
   "source": [
    "with open('cfg_00001.json', 'r') as f:\n",
    "    config = json.load(f)"
   ]
  },
  {
   "cell_type": "code",
   "execution_count": 20,
   "id": "6d148ad4-fda1-4139-a465-9a38fdedf593",
   "metadata": {},
   "outputs": [
    {
     "data": {
      "text/plain": [
       "{'data_set': 'training_data.dat',\n",
       " 'learning_rate': 0.005,\n",
       " 'epochs': 10,\n",
       " 'batch_size': 64,\n",
       " 'loss_function': 'sparse_categorical_crossentropy',\n",
       " 'metrics': ['sparse_categorical_accuracy'],\n",
       " 'optimizer': 'adam',\n",
       " 'base': 'EfficientNetB0',\n",
       " 'pool': 'avg',\n",
       " 'head': 'Dense(100)',\n",
       " 'dataset': 'CIFAR-100'}"
      ]
     },
     "execution_count": 20,
     "metadata": {},
     "output_type": "execute_result"
    }
   ],
   "source": [
    "config"
   ]
  },
  {
   "cell_type": "code",
   "execution_count": null,
   "id": "c1bcacec-0094-4622-821d-488e9244ff96",
   "metadata": {},
   "outputs": [],
   "source": [
    "options=tf.saved_model.SaveOptions(experimental_custom_gradients=True))"
   ]
  },
  {
   "cell_type": "code",
   "execution_count": 2,
   "id": "4810cf12-6253-494e-a501-32fbfa916f89",
   "metadata": {},
   "outputs": [
    {
     "name": "stderr",
     "output_type": "stream",
     "text": [
      "2021-08-06 16:18:51.755875: I tensorflow/core/platform/cpu_feature_guard.cc:142] This TensorFlow binary is optimized with oneAPI Deep Neural Network Library (oneDNN) to use the following CPU instructions in performance-critical operations:  AVX2 FMA\n",
      "To enable them in other operations, rebuild TensorFlow with the appropriate compiler flags.\n"
     ]
    }
   ],
   "source": [
    "model = tf.keras.models.load_model('./model_test/')"
   ]
  },
  {
   "cell_type": "code",
   "execution_count": 31,
   "id": "0a271048-b8c7-4b0e-95f6-6479bfda0f84",
   "metadata": {},
   "outputs": [],
   "source": [
    "tf.compat.v1.logging.set_verbosity(tf.compat.v1.logging.ERROR)"
   ]
  },
  {
   "cell_type": "code",
   "execution_count": 38,
   "id": "d06b1ab3-b977-4881-9ce4-98cc249079ae",
   "metadata": {},
   "outputs": [],
   "source": [
    "dummy_out = model(x_train[:10,:,:,:])"
   ]
  },
  {
   "cell_type": "code",
   "execution_count": 39,
   "id": "b451b2c8-6323-4c6b-ad8c-b33827c441b2",
   "metadata": {},
   "outputs": [
    {
     "data": {
      "text/plain": [
       "TensorShape([10, 100])"
      ]
     },
     "execution_count": 39,
     "metadata": {},
     "output_type": "execute_result"
    }
   ],
   "source": [
    "dummy_out.shape"
   ]
  },
  {
   "cell_type": "code",
   "execution_count": 40,
   "id": "42a8895f-ae74-4c67-a721-df61658d4ddc",
   "metadata": {},
   "outputs": [
    {
     "data": {
      "text/plain": [
       "array([19, 29,  0, 11,  1, 61, 90, 28, 23, 29])"
      ]
     },
     "execution_count": 40,
     "metadata": {},
     "output_type": "execute_result"
    }
   ],
   "source": [
    "np.argmax(dummy_out, axis = 1)"
   ]
  },
  {
   "cell_type": "code",
   "execution_count": 41,
   "id": "d71344e2-4f48-4c3e-b295-4f1a2298dbf8",
   "metadata": {},
   "outputs": [
    {
     "data": {
      "text/plain": [
       "array([[19],\n",
       "       [29],\n",
       "       [ 0],\n",
       "       [11],\n",
       "       [ 1],\n",
       "       [86],\n",
       "       [90],\n",
       "       [28],\n",
       "       [23],\n",
       "       [31]])"
      ]
     },
     "execution_count": 41,
     "metadata": {},
     "output_type": "execute_result"
    }
   ],
   "source": [
    "y_train[:10,:]"
   ]
  },
  {
   "cell_type": "code",
   "execution_count": 43,
   "id": "6dfaabb8-34b6-4ff3-a5f7-10b79678694c",
   "metadata": {},
   "outputs": [
    {
     "data": {
      "text/plain": [
       "dtype('uint8')"
      ]
     },
     "execution_count": 43,
     "metadata": {},
     "output_type": "execute_result"
    }
   ],
   "source": [
    "x_train[0,0,0,:].dtype"
   ]
  },
  {
   "cell_type": "code",
   "execution_count": null,
   "id": "2a9ad239-ed4e-4656-9c4a-aa98b8d43414",
   "metadata": {},
   "outputs": [],
   "source": []
  }
 ],
 "metadata": {
  "kernelspec": {
   "display_name": "train_env",
   "language": "python",
   "name": "train_env"
  },
  "language_info": {
   "codemirror_mode": {
    "name": "ipython",
    "version": 3
   },
   "file_extension": ".py",
   "mimetype": "text/x-python",
   "name": "python",
   "nbconvert_exporter": "python",
   "pygments_lexer": "ipython3",
   "version": "3.9.6"
  }
 },
 "nbformat": 4,
 "nbformat_minor": 5
}
