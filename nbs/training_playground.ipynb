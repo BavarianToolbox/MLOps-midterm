{
 "cells": [
  {
   "cell_type": "code",
   "execution_count": 16,
   "id": "946328e2-66dd-4ff2-8551-0a9653c51d70",
   "metadata": {},
   "outputs": [],
   "source": [
    "import pickle\n",
    "import json\n",
    "import tensorflow as tf\n",
    "import pandas as pd\n",
    "import numpy as np\n",
    "import matplotlib.pyplot as plt\n",
    "\n",
    "import wandb\n",
    "from wandb.keras import WandbCallback\n",
    "\n",
    "from tensorflow import keras\n",
    "from pathlib import Path\n",
    "\n",
    "%matplotlib inline"
   ]
  },
  {
   "cell_type": "code",
   "execution_count": 5,
   "id": "963b324a-34a3-4cc9-8583-83e26a5c76bb",
   "metadata": {},
   "outputs": [],
   "source": [
    "DATA = Path('./data')"
   ]
  },
  {
   "cell_type": "code",
   "execution_count": null,
   "id": "73c29d2f-2a30-4422-b24b-82d5ddd97ffb",
   "metadata": {},
   "outputs": [],
   "source": [
    "!wandb login"
   ]
  },
  {
   "cell_type": "code",
   "execution_count": 2,
   "id": "d5db238e-38e2-401c-b0ba-bbfb6feae314",
   "metadata": {},
   "outputs": [],
   "source": [
    "(x_train, y_train), (x_test, y_test) = tf.keras.datasets.cifar100.load_data(label_mode = 'fine')"
   ]
  },
  {
   "cell_type": "code",
   "execution_count": 9,
   "id": "43038dd4-1580-46e5-b6fe-e0569c14d4db",
   "metadata": {},
   "outputs": [],
   "source": [
    "assert x_train.shape == (50000, 32, 32, 3)\n",
    "assert x_test.shape == (10000, 32, 32, 3)\n",
    "assert y_train.shape == (50000, 1)\n",
    "assert y_test.shape == (10000, 1)"
   ]
  },
  {
   "cell_type": "code",
   "execution_count": 3,
   "id": "b6f08f2e-8597-44af-9d27-7a543c8ae570",
   "metadata": {},
   "outputs": [],
   "source": [
    "# lets pickle the data so we can store it in a bucket\n",
    "data = [x_train, y_train, x_test, y_test]\n",
    "with open(DATA/'training_data.dat', \"wb\") as f:\n",
    "    pickle.dump(data, f)"
   ]
  },
  {
   "cell_type": "code",
   "execution_count": 11,
   "id": "487e9659-e6de-4346-ac52-a10dd756956a",
   "metadata": {},
   "outputs": [],
   "source": [
    "with open(DATA/'training_data.dat', \"rb\") as f:\n",
    "    [x_train, y_train, x_test, y_test] = pickle.load(f)"
   ]
  },
  {
   "cell_type": "code",
   "execution_count": 12,
   "id": "03c151da-4512-47aa-a283-364db52ecb14",
   "metadata": {},
   "outputs": [],
   "source": [
    "assert x_train.shape == (50000, 32, 32, 3)\n",
    "assert x_test.shape == (10000, 32, 32, 3)\n",
    "assert y_train.shape == (50000, 1)\n",
    "assert y_test.shape == (10000, 1)"
   ]
  },
  {
   "cell_type": "code",
   "execution_count": null,
   "id": "0576793a-f923-4a11-9ff3-bfed36da7ef5",
   "metadata": {},
   "outputs": [],
   "source": [
    "# from: https://colab.research.google.com/github/wandb/examples/blob/master/colabs/keras/Simple_Keras_Integration.ipynb#scrollTo=_Mqy_ZBNM8UA\n",
    "run = wandb.init(project='mlops-midterm',\n",
    "                 config={\n",
    "                     \"learning_rate\": 0.005,\n",
    "                     \"epochs\": 10,\n",
    "                     \"batch_size\": 64,\n",
    "                     \"loss_function\": \"sparse_categorical_crossentropy\",\n",
    "                     \"metrics\":[\"sparse_categorical_accuracy\"],\n",
    "                     \"optimizer\": \"adam\",\n",
    "                     \"base\": \"EfficientNetB0\",\n",
    "                     \"pool\": \"avg\",\n",
    "                     \"head\": \"Dense(100)\",\n",
    "                     \"dataset\": \"CIFAR-100\"\n",
    "                 })\n",
    "config = wandb.config"
   ]
  },
  {
   "cell_type": "code",
   "execution_count": 24,
   "id": "7c09c50d-7b17-47bc-be54-313e77f0371e",
   "metadata": {},
   "outputs": [],
   "source": [
    "base = keras.applications.EfficientNetB0(\n",
    "    include_top = False,\n",
    "    weights = 'imagenet',\n",
    "    input_shape = [32, 32, 3],\n",
    "    pooling = config.pool\n",
    ")\n",
    "base.trainable = False"
   ]
  },
  {
   "cell_type": "code",
   "execution_count": 28,
   "id": "0a6276d8-193d-4d5e-97bb-89f393790e0d",
   "metadata": {},
   "outputs": [],
   "source": [
    "#base.summary()"
   ]
  },
  {
   "cell_type": "markdown",
   "id": "83810ce5-056a-472e-b019-7328414b9295",
   "metadata": {},
   "source": [
    "Build and compile model"
   ]
  },
  {
   "cell_type": "code",
   "execution_count": 26,
   "id": "3dc64551-5f2e-4614-be6c-c327d3c919d3",
   "metadata": {},
   "outputs": [],
   "source": [
    "model = keras.Sequential([\n",
    "    base,\n",
    "    keras.layers.Dense(100, activation = 'sigmoid')\n",
    "])"
   ]
  },
  {
   "cell_type": "code",
   "execution_count": 27,
   "id": "8dd4d107-fc07-4f6f-bcc2-698c8eb9d507",
   "metadata": {},
   "outputs": [
    {
     "name": "stdout",
     "output_type": "stream",
     "text": [
      "Model: \"sequential_1\"\n",
      "_________________________________________________________________\n",
      "Layer (type)                 Output Shape              Param #   \n",
      "=================================================================\n",
      "efficientnetb0 (Functional)  (None, 1280)              4049571   \n",
      "_________________________________________________________________\n",
      "dense_1 (Dense)              (None, 100)               128100    \n",
      "=================================================================\n",
      "Total params: 4,177,671\n",
      "Trainable params: 128,100\n",
      "Non-trainable params: 4,049,571\n",
      "_________________________________________________________________\n"
     ]
    }
   ],
   "source": [
    "model.summary()"
   ]
  },
  {
   "cell_type": "code",
   "execution_count": 29,
   "id": "96a5434f-99dc-4c04-971e-9a92596077b5",
   "metadata": {},
   "outputs": [],
   "source": [
    "optimizer = tf.keras.optimizers.Adam(config.learning_rate)\n",
    "model.compile(\n",
    "    optimizer = optimizer,\n",
    "    loss = config.loss,\n",
    "    metrics = config.metrics\n",
    ")"
   ]
  },
  {
   "cell_type": "code",
   "execution_count": null,
   "id": "5b949979-f6d0-4eff-938e-b4927c57e478",
   "metadata": {},
   "outputs": [],
   "source": [
    "model.fit(\n",
    "    x = x_train,\n",
    "    y = y_train,\n",
    "    validation_data = (x_test, y_test),\n",
    "    epochs = config.epochs,\n",
    "    callbacks = [WandbCallback]\n",
    ")"
   ]
  },
  {
   "cell_type": "code",
   "execution_count": 18,
   "id": "198fd625-b8f2-4269-8983-0c300406ed5c",
   "metadata": {},
   "outputs": [],
   "source": [
    "with open('cfg_00001.json', 'r') as f:\n",
    "    config = json.load(f)"
   ]
  },
  {
   "cell_type": "code",
   "execution_count": 20,
   "id": "6d148ad4-fda1-4139-a465-9a38fdedf593",
   "metadata": {},
   "outputs": [
    {
     "data": {
      "text/plain": [
       "{'data_set': 'training_data.dat',\n",
       " 'learning_rate': 0.005,\n",
       " 'epochs': 10,\n",
       " 'batch_size': 64,\n",
       " 'loss_function': 'sparse_categorical_crossentropy',\n",
       " 'metrics': ['sparse_categorical_accuracy'],\n",
       " 'optimizer': 'adam',\n",
       " 'base': 'EfficientNetB0',\n",
       " 'pool': 'avg',\n",
       " 'head': 'Dense(100)',\n",
       " 'dataset': 'CIFAR-100'}"
      ]
     },
     "execution_count": 20,
     "metadata": {},
     "output_type": "execute_result"
    }
   ],
   "source": [
    "config"
   ]
  },
  {
   "cell_type": "code",
   "execution_count": 21,
   "id": "5d734a9b-1908-42b8-b774-f30499737f22",
   "metadata": {},
   "outputs": [
    {
     "ename": "AttributeError",
     "evalue": "'dict' object has no attribute 'metrics'",
     "output_type": "error",
     "traceback": [
      "\u001b[0;31m---------------------------------------------------------------------------\u001b[0m",
      "\u001b[0;31mAttributeError\u001b[0m                            Traceback (most recent call last)",
      "\u001b[0;32m/var/folders/2w/rzwb_9h10_9_7bsp5hys_cg80000gn/T/ipykernel_40713/356380971.py\u001b[0m in \u001b[0;36m<module>\u001b[0;34m\u001b[0m\n\u001b[0;32m----> 1\u001b[0;31m \u001b[0mconfig\u001b[0m\u001b[0;34m.\u001b[0m\u001b[0mmetrics\u001b[0m\u001b[0;34m\u001b[0m\u001b[0;34m\u001b[0m\u001b[0m\n\u001b[0m",
      "\u001b[0;31mAttributeError\u001b[0m: 'dict' object has no attribute 'metrics'"
     ]
    }
   ],
   "source": [
    "config.metrics"
   ]
  },
  {
   "cell_type": "code",
   "execution_count": null,
   "id": "e86b86cb-7752-4946-a88c-799ddf88bd98",
   "metadata": {},
   "outputs": [],
   "source": []
  }
 ],
 "metadata": {
  "kernelspec": {
   "display_name": "train_env",
   "language": "python",
   "name": "train_env"
  },
  "language_info": {
   "codemirror_mode": {
    "name": "ipython",
    "version": 3
   },
   "file_extension": ".py",
   "mimetype": "text/x-python",
   "name": "python",
   "nbconvert_exporter": "python",
   "pygments_lexer": "ipython3",
   "version": "3.9.1"
  }
 },
 "nbformat": 4,
 "nbformat_minor": 5
}
